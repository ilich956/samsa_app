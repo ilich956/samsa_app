{
  "cells": [
    {
      "cell_type": "code",
      "source": [
        "!apt-get install unrar"
      ],
      "metadata": {
        "colab": {
          "base_uri": "https://localhost:8080/"
        },
        "id": "iarKQMSrsG15",
        "outputId": "c87a61ce-7a1f-48b1-8f0d-365214bbfe56"
      },
      "id": "iarKQMSrsG15",
      "execution_count": null,
      "outputs": [
        {
          "output_type": "stream",
          "name": "stdout",
          "text": [
            "Reading package lists... Done\n",
            "Building dependency tree... Done\n",
            "Reading state information... Done\n",
            "unrar is already the newest version (1:6.1.5-1).\n",
            "0 upgraded, 0 newly installed, 0 to remove and 49 not upgraded.\n",
            "\n",
            "UNRAR 6.11 beta 1 freeware      Copyright (c) 1993-2022 Alexander Roshal\n",
            "\n",
            "Cannot open /content/drive/MyDrive/Colab.rar\n",
            "No such file or directory\n",
            "No files to extract\n"
          ]
        }
      ]
    },
    {
      "cell_type": "code",
      "source": [
        "!unrar x \"/content/drive/MyDrive/Colab Notebooks/samsa_dataset/samsa_dataset.rar\" \"/content/drive/MyDrive/Colab Notebooks/samsa_dataset/samsa_dataset/\"\n"
      ],
      "metadata": {
        "id": "y6uOp_9gu_Ox"
      },
      "id": "y6uOp_9gu_Ox",
      "execution_count": null,
      "outputs": []
    },
    {
      "cell_type": "code",
      "execution_count": null,
      "id": "solved-publicity",
      "metadata": {
        "id": "solved-publicity",
        "colab": {
          "base_uri": "https://localhost:8080/"
        },
        "outputId": "5c4c9322-561c-45ca-8586-e6e13cf42b07"
      },
      "outputs": [
        {
          "output_type": "stream",
          "name": "stdout",
          "text": [
            "Drive already mounted at /content/drive; to attempt to forcibly remount, call drive.mount(\"/content/drive\", force_remount=True).\n"
          ]
        }
      ],
      "source": [
        "from google.colab import drive\n",
        "drive.mount('/content/drive')"
      ]
    },
    {
      "cell_type": "code",
      "execution_count": null,
      "id": "floppy-hollow",
      "metadata": {
        "id": "floppy-hollow"
      },
      "outputs": [],
      "source": [
        "img_path = '/content/drive/MyDrive/Colab Notebooks/dataset/samsa_dataset/'"
      ]
    },
    {
      "cell_type": "code",
      "execution_count": null,
      "id": "important-strength",
      "metadata": {
        "id": "important-strength"
      },
      "outputs": [],
      "source": [
        "train_path = img_path + 'training/'\n",
        "test_path = img_path + 'test/'"
      ]
    },
    {
      "cell_type": "code",
      "source": [
        "!pip install scikeras"
      ],
      "metadata": {
        "colab": {
          "base_uri": "https://localhost:8080/"
        },
        "id": "EM6UaDBxtCLI",
        "outputId": "2467551c-98dc-4e6f-82f1-9114444c889d"
      },
      "id": "EM6UaDBxtCLI",
      "execution_count": null,
      "outputs": [
        {
          "output_type": "stream",
          "name": "stdout",
          "text": [
            "Collecting scikeras\n",
            "  Downloading scikeras-0.13.0-py3-none-any.whl.metadata (3.1 kB)\n",
            "Requirement already satisfied: keras>=3.2.0 in /usr/local/lib/python3.10/dist-packages (from scikeras) (3.4.1)\n",
            "Requirement already satisfied: scikit-learn>=1.4.2 in /usr/local/lib/python3.10/dist-packages (from scikeras) (1.5.2)\n",
            "Requirement already satisfied: absl-py in /usr/local/lib/python3.10/dist-packages (from keras>=3.2.0->scikeras) (1.4.0)\n",
            "Requirement already satisfied: numpy in /usr/local/lib/python3.10/dist-packages (from keras>=3.2.0->scikeras) (1.26.4)\n",
            "Requirement already satisfied: rich in /usr/local/lib/python3.10/dist-packages (from keras>=3.2.0->scikeras) (13.8.1)\n",
            "Requirement already satisfied: namex in /usr/local/lib/python3.10/dist-packages (from keras>=3.2.0->scikeras) (0.0.8)\n",
            "Requirement already satisfied: h5py in /usr/local/lib/python3.10/dist-packages (from keras>=3.2.0->scikeras) (3.11.0)\n",
            "Requirement already satisfied: optree in /usr/local/lib/python3.10/dist-packages (from keras>=3.2.0->scikeras) (0.12.1)\n",
            "Requirement already satisfied: ml-dtypes in /usr/local/lib/python3.10/dist-packages (from keras>=3.2.0->scikeras) (0.4.1)\n",
            "Requirement already satisfied: packaging in /usr/local/lib/python3.10/dist-packages (from keras>=3.2.0->scikeras) (24.1)\n",
            "Requirement already satisfied: scipy>=1.6.0 in /usr/local/lib/python3.10/dist-packages (from scikit-learn>=1.4.2->scikeras) (1.13.1)\n",
            "Requirement already satisfied: joblib>=1.2.0 in /usr/local/lib/python3.10/dist-packages (from scikit-learn>=1.4.2->scikeras) (1.4.2)\n",
            "Requirement already satisfied: threadpoolctl>=3.1.0 in /usr/local/lib/python3.10/dist-packages (from scikit-learn>=1.4.2->scikeras) (3.5.0)\n",
            "Requirement already satisfied: typing-extensions>=4.5.0 in /usr/local/lib/python3.10/dist-packages (from optree->keras>=3.2.0->scikeras) (4.12.2)\n",
            "Requirement already satisfied: markdown-it-py>=2.2.0 in /usr/local/lib/python3.10/dist-packages (from rich->keras>=3.2.0->scikeras) (3.0.0)\n",
            "Requirement already satisfied: pygments<3.0.0,>=2.13.0 in /usr/local/lib/python3.10/dist-packages (from rich->keras>=3.2.0->scikeras) (2.18.0)\n",
            "Requirement already satisfied: mdurl~=0.1 in /usr/local/lib/python3.10/dist-packages (from markdown-it-py>=2.2.0->rich->keras>=3.2.0->scikeras) (0.1.2)\n",
            "Downloading scikeras-0.13.0-py3-none-any.whl (26 kB)\n",
            "Installing collected packages: scikeras\n",
            "Successfully installed scikeras-0.13.0\n"
          ]
        }
      ]
    },
    {
      "cell_type": "code",
      "execution_count": null,
      "id": "printable-mentor",
      "metadata": {
        "id": "printable-mentor"
      },
      "outputs": [],
      "source": [
        "import os\n",
        "\n",
        "import numpy as np\n",
        "import pandas as pd\n",
        "\n",
        "import keras\n",
        "from keras.layers import Dense, Flatten\n",
        "from keras.models import Sequential\n",
        "from scikeras.wrappers import KerasClassifier\n",
        "from keras.datasets import mnist\n",
        "from keras.utils import to_categorical\n",
        "\n",
        "from tensorflow.keras.preprocessing.image import ImageDataGenerator\n",
        "from keras.layers import Conv2D, MaxPool2D, Dropout\n",
        "from keras.applications import Xception\n",
        "# from keras.applications.vgg16 import VGG16\n",
        "from keras.callbacks import EarlyStopping\n",
        "\n",
        "from tensorflow.keras.regularizers import l2\n",
        "from tensorflow.keras.regularizers import l1\n",
        "\n",
        "from keras.layers import GlobalAveragePooling2D\n",
        "from keras.utils import plot_model"
      ]
    },
    {
      "cell_type": "code",
      "execution_count": null,
      "id": "liquid-vegetation",
      "metadata": {
        "id": "liquid-vegetation"
      },
      "outputs": [],
      "source": [
        "datagen = ImageDataGenerator(rescale=1. / 255)"
      ]
    },
    {
      "cell_type": "code",
      "execution_count": null,
      "id": "leading-qualification",
      "metadata": {
        "id": "leading-qualification"
      },
      "outputs": [],
      "source": [
        "train_gen_aug = ImageDataGenerator(\n",
        "    rescale = 1/255.,\n",
        "    shear_range=0.1,\n",
        "    zoom_range = 0.2,\n",
        "    horizontal_flip = True,\n",
        "    vertical_flip=True\n",
        ")"
      ]
    },
    {
      "cell_type": "code",
      "execution_count": null,
      "id": "phantom-group",
      "metadata": {
        "id": "phantom-group"
      },
      "outputs": [],
      "source": [
        "test_gen_aug = ImageDataGenerator(\n",
        "    rescale = 1/255.,\n",
        "    shear_range=0.1,\n",
        "    zoom_range = 0.2,\n",
        "    horizontal_flip = True,\n",
        "    vertical_flip=True\n",
        ")"
      ]
    },
    {
      "cell_type": "code",
      "execution_count": null,
      "id": "bored-carolina",
      "metadata": {
        "colab": {
          "base_uri": "https://localhost:8080/"
        },
        "id": "bored-carolina",
        "outputId": "a649a9bb-3f11-417a-8b27-44750066607c"
      },
      "outputs": [
        {
          "output_type": "stream",
          "name": "stdout",
          "text": [
            "Found 2905 images belonging to 2 classes.\n"
          ]
        }
      ],
      "source": [
        "train_aug = train_gen_aug.flow_from_directory(train_path,\n",
        "        target_size=(299, 299),\n",
        "        class_mode=None,\n",
        "        shuffle=False\n",
        ")\n"
      ]
    },
    {
      "cell_type": "code",
      "execution_count": null,
      "id": "elder-triangle",
      "metadata": {
        "id": "elder-triangle",
        "colab": {
          "base_uri": "https://localhost:8080/"
        },
        "outputId": "8477cff4-aede-428a-9f28-30bb6204cf2c"
      },
      "outputs": [
        {
          "output_type": "stream",
          "name": "stdout",
          "text": [
            "Found 368 images belonging to 2 classes.\n"
          ]
        }
      ],
      "source": [
        "test_aug = test_gen_aug.flow_from_directory(test_path,\n",
        "        target_size=(299, 299),\n",
        "        class_mode=None,\n",
        "        shuffle=False\n",
        ")\n"
      ]
    },
    {
      "cell_type": "code",
      "execution_count": null,
      "id": "south-paste",
      "metadata": {
        "colab": {
          "base_uri": "https://localhost:8080/"
        },
        "id": "south-paste",
        "outputId": "3986d44d-8d6e-4dc0-bd98-427fd13b6825"
      },
      "outputs": [
        {
          "output_type": "stream",
          "name": "stdout",
          "text": [
            "{'not_samsa': 0, 'samsa': 1}\n",
            "{'not_samsa': 0, 'samsa': 1}\n"
          ]
        }
      ],
      "source": [
        "print(train_aug.class_indices)\n",
        "print(test_aug.class_indices)\n"
      ]
    },
    {
      "cell_type": "code",
      "execution_count": null,
      "id": "miniature-brand",
      "metadata": {
        "id": "miniature-brand",
        "colab": {
          "base_uri": "https://localhost:8080/"
        },
        "outputId": "2ed999ae-afa7-4e4d-c0b7-3843074aadda"
      },
      "outputs": [
        {
          "output_type": "stream",
          "name": "stdout",
          "text": [
            "Downloading data from https://storage.googleapis.com/tensorflow/keras-applications/xception/xception_weights_tf_dim_ordering_tf_kernels_notop.h5\n",
            "\u001b[1m83683744/83683744\u001b[0m \u001b[32m━━━━━━━━━━━━━━━━━━━━\u001b[0m\u001b[37m\u001b[0m \u001b[1m0s\u001b[0m 0us/step\n",
            "Running Model: 1\n"
          ]
        }
      ],
      "source": [
        "conv_base = Xception(include_top=False, input_shape=(299, 299, 3))"
      ]
    },
    {
      "cell_type": "code",
      "execution_count": null,
      "id": "embedded-thesis",
      "metadata": {
        "id": "embedded-thesis",
        "colab": {
          "base_uri": "https://localhost:8080/"
        },
        "outputId": "a8db6cbd-4af2-4f7c-efa5-bdc004ea1f43"
      },
      "outputs": [
        {
          "output_type": "stream",
          "name": "stderr",
          "text": [
            "/usr/local/lib/python3.10/dist-packages/keras/src/trainers/data_adapters/py_dataset_adapter.py:121: UserWarning: Your `PyDataset` class should call `super().__init__(**kwargs)` in its constructor. `**kwargs` can include `workers`, `use_multiprocessing`, `max_queue_size`. Do not pass these arguments to `fit()`, as they will be ignored.\n",
            "  self._warn_if_super_not_called()\n"
          ]
        },
        {
          "output_type": "stream",
          "name": "stdout",
          "text": [
            "\u001b[1m91/91\u001b[0m \u001b[32m━━━━━━━━━━━━━━━━━━━━\u001b[0m\u001b[37m\u001b[0m \u001b[1m107s\u001b[0m 949ms/step\n",
            "\u001b[1m12/12\u001b[0m \u001b[32m━━━━━━━━━━━━━━━━━━━━\u001b[0m\u001b[37m\u001b[0m \u001b[1m19s\u001b[0m 2s/step\n"
          ]
        }
      ],
      "source": [
        "X_train = conv_base.predict(train_aug)\n",
        "X_test = conv_base.predict(test_aug)"
      ]
    },
    {
      "cell_type": "code",
      "execution_count": null,
      "id": "danish-applicant",
      "metadata": {
        "id": "danish-applicant"
      },
      "outputs": [],
      "source": [
        "y_train = train_aug.labels\n",
        "y_train_binarized = to_categorical(y_train)\n",
        "\n",
        "y_test = test_aug.labels\n",
        "y_test_binarized = to_categorical(y_test)"
      ]
    },
    {
      "cell_type": "code",
      "execution_count": null,
      "id": "forward-lawrence",
      "metadata": {
        "id": "forward-lawrence"
      },
      "outputs": [],
      "source": [
        "model = Sequential()\n",
        "\n",
        "model.add(GlobalAveragePooling2D())\n",
        "\n",
        "\n",
        "# model.add(Dense(2, activation='sigmoid'))\n",
        "model.add(Dense(2, activation='softmax'))\n",
        "model.compile(\n",
        "    loss='categorical_crossentropy',\n",
        "    optimizer='adam',\n",
        "    metrics=['accuracy', 'Precision', 'Recall']\n",
        ")\n"
      ]
    },
    {
      "cell_type": "code",
      "execution_count": null,
      "id": "stunning-lingerie",
      "metadata": {
        "colab": {
          "base_uri": "https://localhost:8080/"
        },
        "id": "stunning-lingerie",
        "outputId": "08190030-6ae8-48e1-befd-f97041b19a11"
      },
      "outputs": [
        {
          "output_type": "stream",
          "name": "stdout",
          "text": [
            "Epoch 1/20\n",
            "\u001b[1m91/91\u001b[0m \u001b[32m━━━━━━━━━━━━━━━━━━━━\u001b[0m\u001b[37m\u001b[0m \u001b[1m7s\u001b[0m 53ms/step - Precision: 0.8450 - Recall: 0.8450 - accuracy: 0.8450 - loss: 0.3098 - val_Precision: 0.9565 - val_Recall: 0.9565 - val_accuracy: 0.9565 - val_loss: 0.1620\n",
            "Epoch 2/20\n",
            "\u001b[1m91/91\u001b[0m \u001b[32m━━━━━━━━━━━━━━━━━━━━\u001b[0m\u001b[37m\u001b[0m \u001b[1m2s\u001b[0m 24ms/step - Precision: 0.9615 - Recall: 0.9615 - accuracy: 0.9615 - loss: 0.1185 - val_Precision: 0.9565 - val_Recall: 0.9565 - val_accuracy: 0.9565 - val_loss: 0.1256\n",
            "Epoch 3/20\n",
            "\u001b[1m91/91\u001b[0m \u001b[32m━━━━━━━━━━━━━━━━━━━━\u001b[0m\u001b[37m\u001b[0m \u001b[1m3s\u001b[0m 28ms/step - Precision: 0.9719 - Recall: 0.9719 - accuracy: 0.9719 - loss: 0.0856 - val_Precision: 0.9565 - val_Recall: 0.9565 - val_accuracy: 0.9565 - val_loss: 0.1119\n",
            "Epoch 4/20\n",
            "\u001b[1m91/91\u001b[0m \u001b[32m━━━━━━━━━━━━━━━━━━━━\u001b[0m\u001b[37m\u001b[0m \u001b[1m4s\u001b[0m 19ms/step - Precision: 0.9741 - Recall: 0.9741 - accuracy: 0.9741 - loss: 0.0690 - val_Precision: 0.9592 - val_Recall: 0.9592 - val_accuracy: 0.9592 - val_loss: 0.1051\n",
            "Epoch 5/20\n",
            "\u001b[1m91/91\u001b[0m \u001b[32m━━━━━━━━━━━━━━━━━━━━\u001b[0m\u001b[37m\u001b[0m \u001b[1m3s\u001b[0m 20ms/step - Precision: 0.9869 - Recall: 0.9869 - accuracy: 0.9869 - loss: 0.0547 - val_Precision: 0.9620 - val_Recall: 0.9620 - val_accuracy: 0.9620 - val_loss: 0.0999\n",
            "Epoch 6/20\n",
            "\u001b[1m91/91\u001b[0m \u001b[32m━━━━━━━━━━━━━━━━━━━━\u001b[0m\u001b[37m\u001b[0m \u001b[1m2s\u001b[0m 20ms/step - Precision: 0.9828 - Recall: 0.9828 - accuracy: 0.9828 - loss: 0.0573 - val_Precision: 0.9674 - val_Recall: 0.9674 - val_accuracy: 0.9674 - val_loss: 0.0968\n",
            "Epoch 7/20\n",
            "\u001b[1m91/91\u001b[0m \u001b[32m━━━━━━━━━━━━━━━━━━━━\u001b[0m\u001b[37m\u001b[0m \u001b[1m3s\u001b[0m 26ms/step - Precision: 0.9850 - Recall: 0.9850 - accuracy: 0.9850 - loss: 0.0535 - val_Precision: 0.9701 - val_Recall: 0.9701 - val_accuracy: 0.9701 - val_loss: 0.0950\n",
            "Epoch 8/20\n",
            "\u001b[1m91/91\u001b[0m \u001b[32m━━━━━━━━━━━━━━━━━━━━\u001b[0m\u001b[37m\u001b[0m \u001b[1m2s\u001b[0m 26ms/step - Precision: 0.9854 - Recall: 0.9854 - accuracy: 0.9854 - loss: 0.0498 - val_Precision: 0.9620 - val_Recall: 0.9620 - val_accuracy: 0.9620 - val_loss: 0.0980\n",
            "Epoch 9/20\n",
            "\u001b[1m91/91\u001b[0m \u001b[32m━━━━━━━━━━━━━━━━━━━━\u001b[0m\u001b[37m\u001b[0m \u001b[1m2s\u001b[0m 20ms/step - Precision: 0.9913 - Recall: 0.9913 - accuracy: 0.9913 - loss: 0.0363 - val_Precision: 0.9592 - val_Recall: 0.9592 - val_accuracy: 0.9592 - val_loss: 0.0982\n",
            "Epoch 10/20\n",
            "\u001b[1m91/91\u001b[0m \u001b[32m━━━━━━━━━━━━━━━━━━━━\u001b[0m\u001b[37m\u001b[0m \u001b[1m3s\u001b[0m 20ms/step - Precision: 0.9910 - Recall: 0.9910 - accuracy: 0.9910 - loss: 0.0387 - val_Precision: 0.9647 - val_Recall: 0.9647 - val_accuracy: 0.9647 - val_loss: 0.0968\n",
            "Epoch 11/20\n",
            "\u001b[1m91/91\u001b[0m \u001b[32m━━━━━━━━━━━━━━━━━━━━\u001b[0m\u001b[37m\u001b[0m \u001b[1m2s\u001b[0m 19ms/step - Precision: 0.9935 - Recall: 0.9935 - accuracy: 0.9935 - loss: 0.0329 - val_Precision: 0.9728 - val_Recall: 0.9728 - val_accuracy: 0.9728 - val_loss: 0.0900\n",
            "Epoch 12/20\n",
            "\u001b[1m91/91\u001b[0m \u001b[32m━━━━━━━━━━━━━━━━━━━━\u001b[0m\u001b[37m\u001b[0m \u001b[1m2s\u001b[0m 19ms/step - Precision: 0.9959 - Recall: 0.9959 - accuracy: 0.9959 - loss: 0.0298 - val_Precision: 0.9701 - val_Recall: 0.9701 - val_accuracy: 0.9701 - val_loss: 0.0944\n",
            "Epoch 13/20\n",
            "\u001b[1m91/91\u001b[0m \u001b[32m━━━━━━━━━━━━━━━━━━━━\u001b[0m\u001b[37m\u001b[0m \u001b[1m3s\u001b[0m 20ms/step - Precision: 0.9958 - Recall: 0.9958 - accuracy: 0.9958 - loss: 0.0265 - val_Precision: 0.9620 - val_Recall: 0.9620 - val_accuracy: 0.9620 - val_loss: 0.0967\n",
            "Epoch 14/20\n",
            "\u001b[1m91/91\u001b[0m \u001b[32m━━━━━━━━━━━━━━━━━━━━\u001b[0m\u001b[37m\u001b[0m \u001b[1m3s\u001b[0m 26ms/step - Precision: 0.9941 - Recall: 0.9941 - accuracy: 0.9941 - loss: 0.0286 - val_Precision: 0.9647 - val_Recall: 0.9647 - val_accuracy: 0.9647 - val_loss: 0.0925\n",
            "Epoch 15/20\n",
            "\u001b[1m91/91\u001b[0m \u001b[32m━━━━━━━━━━━━━━━━━━━━\u001b[0m\u001b[37m\u001b[0m \u001b[1m2s\u001b[0m 20ms/step - Precision: 0.9966 - Recall: 0.9966 - accuracy: 0.9966 - loss: 0.0237 - val_Precision: 0.9647 - val_Recall: 0.9647 - val_accuracy: 0.9647 - val_loss: 0.0939\n",
            "Epoch 16/20\n",
            "\u001b[1m91/91\u001b[0m \u001b[32m━━━━━━━━━━━━━━━━━━━━\u001b[0m\u001b[37m\u001b[0m \u001b[1m2s\u001b[0m 20ms/step - Precision: 0.9957 - Recall: 0.9957 - accuracy: 0.9957 - loss: 0.0219 - val_Precision: 0.9647 - val_Recall: 0.9647 - val_accuracy: 0.9647 - val_loss: 0.0905\n",
            "Model Ran: 1\n"
          ]
        }
      ],
      "source": [
        "callback = EarlyStopping(patience=5)\n",
        "\n",
        "history = model.fit(\n",
        "        X_train,\n",
        "        y_train_binarized,\n",
        "        epochs = 20,\n",
        "        validation_data=(X_test, y_test_binarized),\n",
        "        callbacks=[callback],\n",
        "        verbose=1\n",
        ")"
      ]
    },
    {
      "cell_type": "code",
      "execution_count": null,
      "id": "unnecessary-destruction",
      "metadata": {
        "id": "unnecessary-destruction",
        "colab": {
          "base_uri": "https://localhost:8080/"
        },
        "outputId": "a83d6b36-2030-40ee-d9df-fe06a58f7a6d"
      },
      "outputs": [
        {
          "output_type": "stream",
          "name": "stderr",
          "text": [
            "WARNING:absl:You are saving your model as an HDF5 file via `model.save()` or `keras.saving.save_model(model)`. This file format is considered legacy. We recommend using instead the native Keras format, e.g. `model.save('my_model.keras')` or `keras.saving.save_model(model, 'my_model.keras')`. \n"
          ]
        },
        {
          "output_type": "stream",
          "name": "stdout",
          "text": [
            "File saved to: /content/drive/MyDrive/Colab Notebooks/new_model/samsa_model_1ver20.h5\n"
          ]
        }
      ],
      "source": [
        "save_path = f'/content/drive/MyDrive/Colab Notebooks/new_model/samsa_model_1ver20.h5'\n",
        "model.save(save_path)\n",
        "print(f'File saved to: {save_path}')"
      ]
    },
    {
      "cell_type": "code",
      "source": [
        "from keras.models import load_model\n",
        "\n",
        "\n",
        "model_path = f'/content/drive/MyDrive/Colab Notebooks/new_model/samsa_model_1.h5'\n",
        "model = load_model(model_path)\n",
        "\n",
        "test_loss, test_accuracy, test_precision, test_recall = model.evaluate(X_test, y_test_binarized)\n",
        "\n",
        "print(f\"Test Loss: {test_loss}\")\n",
        "print(f\"Test Accuracy: {test_accuracy}\")\n",
        "print(f\"Test Precision: {test_precision}\")\n",
        "print(f\"Test Recall: {test_recall}\")\n"
      ],
      "metadata": {
        "colab": {
          "base_uri": "https://localhost:8080/"
        },
        "id": "K5_bCHrJ_4Qb",
        "outputId": "fb27f55d-f4f6-4eef-837d-c746a5f0a069"
      },
      "id": "K5_bCHrJ_4Qb",
      "execution_count": null,
      "outputs": [
        {
          "output_type": "stream",
          "name": "stderr",
          "text": [
            "WARNING:absl:Compiled the loaded model, but the compiled metrics have yet to be built. `model.compile_metrics` will be empty until you train or evaluate the model.\n"
          ]
        },
        {
          "output_type": "stream",
          "name": "stdout",
          "text": [
            "\u001b[1m6/6\u001b[0m \u001b[32m━━━━━━━━━━━━━━━━━━━━\u001b[0m\u001b[37m\u001b[0m \u001b[1m2s\u001b[0m 131ms/step - accuracy: 0.9283 - loss: 0.1702 - precision_1: 0.9283 - recall_1: 0.9283\n",
            "Test Loss: 0.13520613312721252\n",
            "Test Accuracy: 0.9404761791229248\n",
            "Test Precision: 0.9404761791229248\n",
            "Test Recall: 0.9404761791229248\n"
          ]
        }
      ]
    }
  ],
  "metadata": {
    "colab": {
      "provenance": [],
      "gpuType": "T4"
    },
    "kernelspec": {
      "display_name": "Python 3",
      "name": "python3"
    },
    "language_info": {
      "codemirror_mode": {
        "name": "ipython",
        "version": 3
      },
      "file_extension": ".py",
      "mimetype": "text/x-python",
      "name": "python",
      "nbconvert_exporter": "python",
      "pygments_lexer": "ipython3",
      "version": "3.8.5"
    },
    "accelerator": "GPU"
  },
  "nbformat": 4,
  "nbformat_minor": 5
}